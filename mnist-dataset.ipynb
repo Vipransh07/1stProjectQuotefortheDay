{
 "cells": [
  {
   "cell_type": "code",
   "execution_count": 1,
   "id": "8619aa93",
   "metadata": {
    "_cell_guid": "b1076dfc-b9ad-4769-8c92-a6c4dae69d19",
    "_uuid": "8f2839f25d086af736a60e9eeb907d3b93b6e0e5",
    "execution": {
     "iopub.execute_input": "2023-02-22T09:02:38.496431Z",
     "iopub.status.busy": "2023-02-22T09:02:38.495946Z",
     "iopub.status.idle": "2023-02-22T09:02:38.510814Z",
     "shell.execute_reply": "2023-02-22T09:02:38.509064Z"
    },
    "papermill": {
     "duration": 0.028949,
     "end_time": "2023-02-22T09:02:38.514388",
     "exception": false,
     "start_time": "2023-02-22T09:02:38.485439",
     "status": "completed"
    },
    "tags": []
   },
   "outputs": [
    {
     "name": "stdout",
     "output_type": "stream",
     "text": [
      "/kaggle/input/digit-recognizer/sample_submission.csv\n",
      "/kaggle/input/digit-recognizer/train.csv\n",
      "/kaggle/input/digit-recognizer/test.csv\n"
     ]
    }
   ],
   "source": [
    "# This Python 3 environment comes with many helpful analytics libraries installed\n",
    "# It is defined by the kaggle/python Docker image: https://github.com/kaggle/docker-python\n",
    "# For example, here's several helpful packages to load\n",
    "\n",
    "import numpy as np # linear algebra\n",
    "import pandas as pd # data processing, CSV file I/O (e.g. pd.read_csv)\n",
    "\n",
    "# Input data files are available in the read-only \"../input/\" directory\n",
    "# For example, running this (by clicking run or pressing Shift+Enter) will list all files under the input directory\n",
    "\n",
    "import os\n",
    "for dirname, _, filenames in os.walk('/kaggle/input'):\n",
    "    for filename in filenames:\n",
    "        print(os.path.join(dirname, filename))\n",
    "\n",
    "# You can write up to 20GB to the current directory (/kaggle/working/) that gets preserved as output when you create a version using \"Save & Run All\" \n",
    "# You can also write temporary files to /kaggle/temp/, but they won't be saved outside of the current session"
   ]
  },
  {
   "cell_type": "code",
   "execution_count": 2,
   "id": "7417389f",
   "metadata": {
    "execution": {
     "iopub.execute_input": "2023-02-22T09:02:38.527012Z",
     "iopub.status.busy": "2023-02-22T09:02:38.526567Z",
     "iopub.status.idle": "2023-02-22T09:02:44.755576Z",
     "shell.execute_reply": "2023-02-22T09:02:44.754382Z"
    },
    "papermill": {
     "duration": 6.238336,
     "end_time": "2023-02-22T09:02:44.758429",
     "exception": false,
     "start_time": "2023-02-22T09:02:38.520093",
     "status": "completed"
    },
    "tags": []
   },
   "outputs": [],
   "source": [
    "train = pd.read_csv('/kaggle/input/digit-recognizer/train.csv')\n",
    "test = pd.read_csv('/kaggle/input/digit-recognizer/test.csv')"
   ]
  },
  {
   "cell_type": "code",
   "execution_count": 3,
   "id": "0942907d",
   "metadata": {
    "execution": {
     "iopub.execute_input": "2023-02-22T09:02:44.770967Z",
     "iopub.status.busy": "2023-02-22T09:02:44.769767Z",
     "iopub.status.idle": "2023-02-22T09:02:44.800084Z",
     "shell.execute_reply": "2023-02-22T09:02:44.798897Z"
    },
    "papermill": {
     "duration": 0.040127,
     "end_time": "2023-02-22T09:02:44.803701",
     "exception": false,
     "start_time": "2023-02-22T09:02:44.763574",
     "status": "completed"
    },
    "tags": []
   },
   "outputs": [
    {
     "data": {
      "text/html": [
       "<div>\n",
       "<style scoped>\n",
       "    .dataframe tbody tr th:only-of-type {\n",
       "        vertical-align: middle;\n",
       "    }\n",
       "\n",
       "    .dataframe tbody tr th {\n",
       "        vertical-align: top;\n",
       "    }\n",
       "\n",
       "    .dataframe thead th {\n",
       "        text-align: right;\n",
       "    }\n",
       "</style>\n",
       "<table border=\"1\" class=\"dataframe\">\n",
       "  <thead>\n",
       "    <tr style=\"text-align: right;\">\n",
       "      <th></th>\n",
       "      <th>label</th>\n",
       "      <th>pixel0</th>\n",
       "      <th>pixel1</th>\n",
       "      <th>pixel2</th>\n",
       "      <th>pixel3</th>\n",
       "      <th>pixel4</th>\n",
       "      <th>pixel5</th>\n",
       "      <th>pixel6</th>\n",
       "      <th>pixel7</th>\n",
       "      <th>pixel8</th>\n",
       "      <th>...</th>\n",
       "      <th>pixel774</th>\n",
       "      <th>pixel775</th>\n",
       "      <th>pixel776</th>\n",
       "      <th>pixel777</th>\n",
       "      <th>pixel778</th>\n",
       "      <th>pixel779</th>\n",
       "      <th>pixel780</th>\n",
       "      <th>pixel781</th>\n",
       "      <th>pixel782</th>\n",
       "      <th>pixel783</th>\n",
       "    </tr>\n",
       "  </thead>\n",
       "  <tbody>\n",
       "    <tr>\n",
       "      <th>0</th>\n",
       "      <td>1</td>\n",
       "      <td>0</td>\n",
       "      <td>0</td>\n",
       "      <td>0</td>\n",
       "      <td>0</td>\n",
       "      <td>0</td>\n",
       "      <td>0</td>\n",
       "      <td>0</td>\n",
       "      <td>0</td>\n",
       "      <td>0</td>\n",
       "      <td>...</td>\n",
       "      <td>0</td>\n",
       "      <td>0</td>\n",
       "      <td>0</td>\n",
       "      <td>0</td>\n",
       "      <td>0</td>\n",
       "      <td>0</td>\n",
       "      <td>0</td>\n",
       "      <td>0</td>\n",
       "      <td>0</td>\n",
       "      <td>0</td>\n",
       "    </tr>\n",
       "    <tr>\n",
       "      <th>1</th>\n",
       "      <td>0</td>\n",
       "      <td>0</td>\n",
       "      <td>0</td>\n",
       "      <td>0</td>\n",
       "      <td>0</td>\n",
       "      <td>0</td>\n",
       "      <td>0</td>\n",
       "      <td>0</td>\n",
       "      <td>0</td>\n",
       "      <td>0</td>\n",
       "      <td>...</td>\n",
       "      <td>0</td>\n",
       "      <td>0</td>\n",
       "      <td>0</td>\n",
       "      <td>0</td>\n",
       "      <td>0</td>\n",
       "      <td>0</td>\n",
       "      <td>0</td>\n",
       "      <td>0</td>\n",
       "      <td>0</td>\n",
       "      <td>0</td>\n",
       "    </tr>\n",
       "    <tr>\n",
       "      <th>2</th>\n",
       "      <td>1</td>\n",
       "      <td>0</td>\n",
       "      <td>0</td>\n",
       "      <td>0</td>\n",
       "      <td>0</td>\n",
       "      <td>0</td>\n",
       "      <td>0</td>\n",
       "      <td>0</td>\n",
       "      <td>0</td>\n",
       "      <td>0</td>\n",
       "      <td>...</td>\n",
       "      <td>0</td>\n",
       "      <td>0</td>\n",
       "      <td>0</td>\n",
       "      <td>0</td>\n",
       "      <td>0</td>\n",
       "      <td>0</td>\n",
       "      <td>0</td>\n",
       "      <td>0</td>\n",
       "      <td>0</td>\n",
       "      <td>0</td>\n",
       "    </tr>\n",
       "    <tr>\n",
       "      <th>3</th>\n",
       "      <td>4</td>\n",
       "      <td>0</td>\n",
       "      <td>0</td>\n",
       "      <td>0</td>\n",
       "      <td>0</td>\n",
       "      <td>0</td>\n",
       "      <td>0</td>\n",
       "      <td>0</td>\n",
       "      <td>0</td>\n",
       "      <td>0</td>\n",
       "      <td>...</td>\n",
       "      <td>0</td>\n",
       "      <td>0</td>\n",
       "      <td>0</td>\n",
       "      <td>0</td>\n",
       "      <td>0</td>\n",
       "      <td>0</td>\n",
       "      <td>0</td>\n",
       "      <td>0</td>\n",
       "      <td>0</td>\n",
       "      <td>0</td>\n",
       "    </tr>\n",
       "    <tr>\n",
       "      <th>4</th>\n",
       "      <td>0</td>\n",
       "      <td>0</td>\n",
       "      <td>0</td>\n",
       "      <td>0</td>\n",
       "      <td>0</td>\n",
       "      <td>0</td>\n",
       "      <td>0</td>\n",
       "      <td>0</td>\n",
       "      <td>0</td>\n",
       "      <td>0</td>\n",
       "      <td>...</td>\n",
       "      <td>0</td>\n",
       "      <td>0</td>\n",
       "      <td>0</td>\n",
       "      <td>0</td>\n",
       "      <td>0</td>\n",
       "      <td>0</td>\n",
       "      <td>0</td>\n",
       "      <td>0</td>\n",
       "      <td>0</td>\n",
       "      <td>0</td>\n",
       "    </tr>\n",
       "  </tbody>\n",
       "</table>\n",
       "<p>5 rows × 785 columns</p>\n",
       "</div>"
      ],
      "text/plain": [
       "   label  pixel0  pixel1  pixel2  pixel3  pixel4  pixel5  pixel6  pixel7  \\\n",
       "0      1       0       0       0       0       0       0       0       0   \n",
       "1      0       0       0       0       0       0       0       0       0   \n",
       "2      1       0       0       0       0       0       0       0       0   \n",
       "3      4       0       0       0       0       0       0       0       0   \n",
       "4      0       0       0       0       0       0       0       0       0   \n",
       "\n",
       "   pixel8  ...  pixel774  pixel775  pixel776  pixel777  pixel778  pixel779  \\\n",
       "0       0  ...         0         0         0         0         0         0   \n",
       "1       0  ...         0         0         0         0         0         0   \n",
       "2       0  ...         0         0         0         0         0         0   \n",
       "3       0  ...         0         0         0         0         0         0   \n",
       "4       0  ...         0         0         0         0         0         0   \n",
       "\n",
       "   pixel780  pixel781  pixel782  pixel783  \n",
       "0         0         0         0         0  \n",
       "1         0         0         0         0  \n",
       "2         0         0         0         0  \n",
       "3         0         0         0         0  \n",
       "4         0         0         0         0  \n",
       "\n",
       "[5 rows x 785 columns]"
      ]
     },
     "execution_count": 3,
     "metadata": {},
     "output_type": "execute_result"
    }
   ],
   "source": [
    "train.head()"
   ]
  },
  {
   "cell_type": "code",
   "execution_count": 4,
   "id": "7de4852f",
   "metadata": {
    "execution": {
     "iopub.execute_input": "2023-02-22T09:02:44.817702Z",
     "iopub.status.busy": "2023-02-22T09:02:44.816872Z",
     "iopub.status.idle": "2023-02-22T09:02:44.823954Z",
     "shell.execute_reply": "2023-02-22T09:02:44.823060Z"
    },
    "papermill": {
     "duration": 0.016745,
     "end_time": "2023-02-22T09:02:44.826183",
     "exception": false,
     "start_time": "2023-02-22T09:02:44.809438",
     "status": "completed"
    },
    "tags": []
   },
   "outputs": [
    {
     "data": {
      "text/plain": [
       "(42000, 785)"
      ]
     },
     "execution_count": 4,
     "metadata": {},
     "output_type": "execute_result"
    }
   ],
   "source": [
    "train.shape"
   ]
  },
  {
   "cell_type": "code",
   "execution_count": 5,
   "id": "4e602da2",
   "metadata": {
    "execution": {
     "iopub.execute_input": "2023-02-22T09:02:44.839024Z",
     "iopub.status.busy": "2023-02-22T09:02:44.838035Z",
     "iopub.status.idle": "2023-02-22T09:02:45.017114Z",
     "shell.execute_reply": "2023-02-22T09:02:45.015875Z"
    },
    "papermill": {
     "duration": 0.18842,
     "end_time": "2023-02-22T09:02:45.019910",
     "exception": false,
     "start_time": "2023-02-22T09:02:44.831490",
     "status": "completed"
    },
    "tags": []
   },
   "outputs": [
    {
     "data": {
      "image/png": "[encoded data removed]",
      "text/plain": [
       "<Figure size 640x480 with 1 Axes>"
      ]
     },
     "metadata": {},
     "output_type": "display_data"
    }
   ],
   "source": [
    "import matplotlib.pyplot as plt\n",
    "num = np.array(train.iloc[3, 1:]).reshape(28, 28)\n",
    "plt.imshow(num)\n",
    "plt.show()"
   ]
  },
  {
   "cell_type": "code",
   "execution_count": 6,
   "id": "70c24579",
   "metadata": {
    "execution": {
     "iopub.execute_input": "2023-02-22T09:02:45.033089Z",
     "iopub.status.busy": "2023-02-22T09:02:45.032672Z",
     "iopub.status.idle": "2023-02-22T09:02:45.038326Z",
     "shell.execute_reply": "2023-02-22T09:02:45.037234Z"
    },
    "papermill": {
     "duration": 0.015364,
     "end_time": "2023-02-22T09:02:45.040992",
     "exception": false,
     "start_time": "2023-02-22T09:02:45.025628",
     "status": "completed"
    },
    "tags": []
   },
   "outputs": [],
   "source": [
    "arr = train.iloc[3, 1:]"
   ]
  },
  {
   "cell_type": "code",
   "execution_count": 7,
   "id": "3d74819c",
   "metadata": {
    "execution": {
     "iopub.execute_input": "2023-02-22T09:02:45.054055Z",
     "iopub.status.busy": "2023-02-22T09:02:45.053608Z",
     "iopub.status.idle": "2023-02-22T09:02:45.231309Z",
     "shell.execute_reply": "2023-02-22T09:02:45.230080Z"
    },
    "papermill": {
     "duration": 0.187378,
     "end_time": "2023-02-22T09:02:45.233989",
     "exception": false,
     "start_time": "2023-02-22T09:02:45.046611",
     "status": "completed"
    },
    "tags": []
   },
   "outputs": [
    {
     "data": {
      "text/plain": [
       "(array([691.,   7.,  18.,   4.,   5.,   5.,   7.,  12.,   9.,  26.]),\n",
       " array([  0. ,  25.5,  51. ,  76.5, 102. , 127.5, 153. , 178.5, 204. ,\n",
       "        229.5, 255. ]),\n",
       " <BarContainer object of 10 artists>)"
      ]
     },
     "execution_count": 7,
     "metadata": {},
     "output_type": "execute_result"
    },
    {
     "data": {
      "image/png": "[encoded data removed]",
      "text/plain": [
       "<Figure size 640x480 with 1 Axes>"
      ]
     },
     "metadata": {},
     "output_type": "display_data"
    }
   ],
   "source": [
    "plt.hist(arr)"
   ]
  },
  {
   "cell_type": "code",
   "execution_count": 8,
   "id": "43f0e31d",
   "metadata": {
    "execution": {
     "iopub.execute_input": "2023-02-22T09:02:45.247941Z",
     "iopub.status.busy": "2023-02-22T09:02:45.247502Z",
     "iopub.status.idle": "2023-02-22T09:02:45.255266Z",
     "shell.execute_reply": "2023-02-22T09:02:45.254076Z"
    },
    "papermill": {
     "duration": 0.017271,
     "end_time": "2023-02-22T09:02:45.257448",
     "exception": false,
     "start_time": "2023-02-22T09:02:45.240177",
     "status": "completed"
    },
    "tags": []
   },
   "outputs": [
    {
     "data": {
      "text/plain": [
       "255"
      ]
     },
     "execution_count": 8,
     "metadata": {},
     "output_type": "execute_result"
    }
   ],
   "source": [
    "max(arr)"
   ]
  },
  {
   "cell_type": "code",
   "execution_count": 9,
   "id": "e37425e5",
   "metadata": {
    "execution": {
     "iopub.execute_input": "2023-02-22T09:02:45.271620Z",
     "iopub.status.busy": "2023-02-22T09:02:45.271207Z",
     "iopub.status.idle": "2023-02-22T09:02:45.324094Z",
     "shell.execute_reply": "2023-02-22T09:02:45.322913Z"
    },
    "papermill": {
     "duration": 0.063251,
     "end_time": "2023-02-22T09:02:45.326879",
     "exception": false,
     "start_time": "2023-02-22T09:02:45.263628",
     "status": "completed"
    },
    "tags": []
   },
   "outputs": [
    {
     "data": {
      "text/plain": [
       "label       0\n",
       "pixel0      0\n",
       "pixel1      0\n",
       "pixel2      0\n",
       "pixel3      0\n",
       "           ..\n",
       "pixel779    0\n",
       "pixel780    0\n",
       "pixel781    0\n",
       "pixel782    0\n",
       "pixel783    0\n",
       "Length: 785, dtype: int64"
      ]
     },
     "execution_count": 9,
     "metadata": {},
     "output_type": "execute_result"
    }
   ],
   "source": [
    "missing_val_count = train.isnull().sum()\n",
    "missing_val_count"
   ]
  },
  {
   "cell_type": "code",
   "execution_count": 10,
   "id": "2cde9bca",
   "metadata": {
    "execution": {
     "iopub.execute_input": "2023-02-22T09:02:45.341373Z",
     "iopub.status.busy": "2023-02-22T09:02:45.340970Z",
     "iopub.status.idle": "2023-02-22T09:02:45.684278Z",
     "shell.execute_reply": "2023-02-22T09:02:45.683269Z"
    },
    "papermill": {
     "duration": 0.353634,
     "end_time": "2023-02-22T09:02:45.686904",
     "exception": false,
     "start_time": "2023-02-22T09:02:45.333270",
     "status": "completed"
    },
    "tags": []
   },
   "outputs": [],
   "source": [
    "x = np.array(train)\n",
    "y = np.array(test)\n",
    "\n",
    "X_train = x[:, 1:]\n",
    "Y_train = x[:, 0]\n",
    "X_test = y"
   ]
  },
  {
   "cell_type": "code",
   "execution_count": 11,
   "id": "758f0d56",
   "metadata": {
    "execution": {
     "iopub.execute_input": "2023-02-22T09:02:45.701277Z",
     "iopub.status.busy": "2023-02-22T09:02:45.700477Z",
     "iopub.status.idle": "2023-02-22T09:02:53.714503Z",
     "shell.execute_reply": "2023-02-22T09:02:53.713444Z"
    },
    "papermill": {
     "duration": 8.024003,
     "end_time": "2023-02-22T09:02:53.717164",
     "exception": false,
     "start_time": "2023-02-22T09:02:45.693161",
     "status": "completed"
    },
    "tags": []
   },
   "outputs": [],
   "source": [
    "from keras.preprocessing.image import ImageDataGenerator\n",
    "X_train = X_train.reshape(-1, 28, 28, 1)"
   ]
  },
  {
   "cell_type": "code",
   "execution_count": 12,
   "id": "ec29dfab",
   "metadata": {
    "execution": {
     "iopub.execute_input": "2023-02-22T09:02:53.732342Z",
     "iopub.status.busy": "2023-02-22T09:02:53.731492Z",
     "iopub.status.idle": "2023-02-22T09:02:53.952629Z",
     "shell.execute_reply": "2023-02-22T09:02:53.951515Z"
    },
    "papermill": {
     "duration": 0.231863,
     "end_time": "2023-02-22T09:02:53.955408",
     "exception": false,
     "start_time": "2023-02-22T09:02:53.723545",
     "status": "completed"
    },
    "tags": []
   },
   "outputs": [],
   "source": [
    "datagen = ImageDataGenerator(\n",
    "           rotation_range = 15,\n",
    "           height_shift_range = 0.1,\n",
    "           zoom_range = 0.1,\n",
    "           shear_range = 0.1,\n",
    ")\n",
    "\n",
    "datagen.fit(X_train)"
   ]
  },
  {
   "cell_type": "code",
   "execution_count": 13,
   "id": "ae850aad",
   "metadata": {
    "execution": {
     "iopub.execute_input": "2023-02-22T09:02:53.970208Z",
     "iopub.status.busy": "2023-02-22T09:02:53.969795Z",
     "iopub.status.idle": "2023-02-22T09:02:53.974959Z",
     "shell.execute_reply": "2023-02-22T09:02:53.973762Z"
    },
    "papermill": {
     "duration": 0.015232,
     "end_time": "2023-02-22T09:02:53.977241",
     "exception": false,
     "start_time": "2023-02-22T09:02:53.962009",
     "status": "completed"
    },
    "tags": []
   },
   "outputs": [],
   "source": [
    "X_train = X_train.reshape(-1, 784)"
   ]
  },
  {
   "cell_type": "code",
   "execution_count": 14,
   "id": "ad627b65",
   "metadata": {
    "execution": {
     "iopub.execute_input": "2023-02-22T09:02:53.991393Z",
     "iopub.status.busy": "2023-02-22T09:02:53.991016Z",
     "iopub.status.idle": "2023-02-22T09:02:54.774102Z",
     "shell.execute_reply": "2023-02-22T09:02:54.772564Z"
    },
    "papermill": {
     "duration": 0.793873,
     "end_time": "2023-02-22T09:02:54.777336",
     "exception": false,
     "start_time": "2023-02-22T09:02:53.983463",
     "status": "completed"
    },
    "tags": []
   },
   "outputs": [],
   "source": [
    "from sklearn.neighbors import KNeighborsClassifier"
   ]
  },
  {
   "cell_type": "code",
   "execution_count": 15,
   "id": "f7cee236",
   "metadata": {
    "execution": {
     "iopub.execute_input": "2023-02-22T09:02:54.792299Z",
     "iopub.status.busy": "2023-02-22T09:02:54.791906Z",
     "iopub.status.idle": "2023-02-22T09:02:54.804146Z",
     "shell.execute_reply": "2023-02-22T09:02:54.803203Z"
    },
    "papermill": {
     "duration": 0.022601,
     "end_time": "2023-02-22T09:02:54.806521",
     "exception": false,
     "start_time": "2023-02-22T09:02:54.783920",
     "status": "completed"
    },
    "tags": []
   },
   "outputs": [
    {
     "data": {
      "text/plain": [
       "KNeighborsClassifier()"
      ]
     },
     "execution_count": 15,
     "metadata": {},
     "output_type": "execute_result"
    }
   ],
   "source": [
    "knn = KNeighborsClassifier(n_neighbors = 5)\n",
    "knn.fit(X_train, Y_train)"
   ]
  },
  {
   "cell_type": "code",
   "execution_count": 16,
   "id": "8a315d3b",
   "metadata": {
    "execution": {
     "iopub.execute_input": "2023-02-22T09:02:54.821570Z",
     "iopub.status.busy": "2023-02-22T09:02:54.820844Z",
     "iopub.status.idle": "2023-02-22T09:02:55.072863Z",
     "shell.execute_reply": "2023-02-22T09:02:55.071311Z"
    },
    "papermill": {
     "duration": 0.264035,
     "end_time": "2023-02-22T09:02:55.076986",
     "exception": false,
     "start_time": "2023-02-22T09:02:54.812951",
     "status": "completed"
    },
    "tags": []
   },
   "outputs": [
    {
     "data": {
      "text/plain": [
       "0"
      ]
     },
     "execution_count": 16,
     "metadata": {},
     "output_type": "execute_result"
    }
   ],
   "source": [
    "int(knn.predict(X_test[100].reshape(1, -1)))"
   ]
  },
  {
   "cell_type": "code",
   "execution_count": 17,
   "id": "cc51af94",
   "metadata": {
    "execution": {
     "iopub.execute_input": "2023-02-22T09:02:55.112785Z",
     "iopub.status.busy": "2023-02-22T09:02:55.112107Z",
     "iopub.status.idle": "2023-02-22T09:02:55.291721Z",
     "shell.execute_reply": "2023-02-22T09:02:55.290092Z"
    },
    "papermill": {
     "duration": 0.202408,
     "end_time": "2023-02-22T09:02:55.295961",
     "exception": false,
     "start_time": "2023-02-22T09:02:55.093553",
     "status": "completed"
    },
    "tags": []
   },
   "outputs": [
    {
     "data": {
      "image/png": "[encoded data removed]",
      "text/plain": [
       "<Figure size 640x480 with 1 Axes>"
      ]
     },
     "metadata": {},
     "output_type": "display_data"
    }
   ],
   "source": [
    "num = np.array(test.iloc[100, : ]).reshape(28, 28)\n",
    "plt.imshow(num)\n",
    "plt.show()"
   ]
  },
  {
   "cell_type": "code",
   "execution_count": null,
   "id": "bb947544",
   "metadata": {
    "papermill": {
     "duration": 0.006488,
     "end_time": "2023-02-22T09:02:55.310993",
     "exception": false,
     "start_time": "2023-02-22T09:02:55.304505",
     "status": "completed"
    },
    "tags": []
   },
   "outputs": [],
   "source": []
  }
 ],
 "metadata": {
  "kernelspec": {
   "display_name": "Python 3",
   "language": "python",
   "name": "python3"
  },
  "language_info": {
   "codemirror_mode": {
    "name": "ipython",
    "version": 3
   },
   "file_extension": ".py",
   "mimetype": "text/x-python",
   "name": "python",
   "nbconvert_exporter": "python",
   "pygments_lexer": "ipython3",
   "version": "3.7.12"
  },
  "papermill": {
   "default_parameters": {},
   "duration": 28.168128,
   "end_time": "2023-02-22T09:02:58.039644",
   "environment_variables": {},
   "exception": null,
   "input_path": "__notebook__.ipynb",
   "output_path": "__notebook__.ipynb",
   "parameters": {},
   "start_time": "2023-02-22T09:02:29.871516",
   "version": "2.3.4"
  }
 },
 "nbformat": 4,
 "nbformat_minor": 5
}
